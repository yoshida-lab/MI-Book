{
 "cells": [
  {
   "cell_type": "markdown",
   "metadata": {},
   "source": [
    "### サンプルデータの用意\n",
    "\n",
    "この演習は1,000個くらいの化学式が必要です．下記のブロックを執行して，`Materials Project`から化学式を取得します．"
   ]
  },
  {
   "cell_type": "markdown",
   "metadata": {},
   "source": [
    "#### API Key\n",
    "\n",
    "下記のブロックを実行するためには，`Materials Project`のAPI keyを予め生成してくだい．API Keyの生成に関しては，[The Materials API](https://materialsproject.org/open)を参考して下さい．"
   ]
  },
  {
   "cell_type": "code",
   "execution_count": 1,
   "metadata": {},
   "outputs": [],
   "source": [
    "# your api key\n",
    "\n",
    "api_key = '1vRmHNP6w40CzaiO'"
   ]
  },
  {
   "cell_type": "markdown",
   "metadata": {},
   "source": [
    "#### import packages"
   ]
  },
  {
   "cell_type": "code",
   "execution_count": 2,
   "metadata": {},
   "outputs": [],
   "source": [
    "from itertools import zip_longest\n",
    "from pathlib import Path\n",
    "\n",
    "from pymatgen.ext.matproj import MPRester\n",
    "from tqdm import tqdm\n",
    "\n",
    "import pandas as pd\n",
    "import numpy as np"
   ]
  },
  {
   "cell_type": "markdown",
   "metadata": {},
   "source": [
    "#### fetch function"
   ]
  },
  {
   "cell_type": "code",
   "execution_count": 3,
   "metadata": {},
   "outputs": [],
   "source": [
    "def data_fetcher(api_key, mp_ids):\n",
    "    \n",
    "    # split requests into fixed number groups\n",
    "    # eg: grouper('ABCDEFG', 3, 'x') --> ABC DEF Gxx\n",
    "    def grouper(iterable, n, fillvalue=None):\n",
    "        \"\"\"Collect data into fixed-length chunks or blocks\"\"\"\n",
    "        args = [iter(iterable)] * n\n",
    "        return zip_longest(fillvalue=fillvalue, *args)\n",
    "\n",
    "    # the following props will be fetched\n",
    "    mp_props = [\n",
    "        'band_gap',\n",
    "        'density',\n",
    "        'volume',\n",
    "        'material_id',\n",
    "        'pretty_formula',\n",
    "        'elements',\n",
    "        'efermi',\n",
    "        'e_above_hull',\n",
    "        'formation_energy_per_atom',\n",
    "        'final_energy_per_atom',\n",
    "        'unit_cell_formula',\n",
    "        'structure'\n",
    "    ]\n",
    "\n",
    "\n",
    "\n",
    "    entries = []\n",
    "    mpid_groups = [g for g in grouper(mp_ids, 10)]\n",
    "\n",
    "    with MPRester(api_key) as mpr:\n",
    "        for group in tqdm(mpid_groups):\n",
    "            mpid_list = [id for id in filter(None, group)]\n",
    "            chunk = mpr.query({\"material_id\": {\"$in\": mpid_list}}, mp_props)\n",
    "            entries.extend(chunk)\n",
    "\n",
    "\n",
    "    df = pd.DataFrame(entries, index=[e['material_id'] for e in entries])\n",
    "    df = df.drop('material_id', axis=1)\n",
    "    df = df.rename(columns={'unit_cell_formula': 'composition'})\n",
    "    df = df.reindex(columns=sorted(df.columns))\n",
    "\n",
    "    return df"
   ]
  },
  {
   "cell_type": "markdown",
   "metadata": {},
   "source": [
    "#### データ取得"
   ]
  },
  {
   "cell_type": "code",
   "execution_count": 4,
   "metadata": {},
   "outputs": [
    {
     "name": "stderr",
     "output_type": "stream",
     "text": [
      "100%|██████████| 100/100 [00:41<00:00,  2.44it/s]\n"
     ]
    },
    {
     "data": {
      "text/html": [
       "<div>\n",
       "<style scoped>\n",
       "    .dataframe tbody tr th:only-of-type {\n",
       "        vertical-align: middle;\n",
       "    }\n",
       "\n",
       "    .dataframe tbody tr th {\n",
       "        vertical-align: top;\n",
       "    }\n",
       "\n",
       "    .dataframe thead th {\n",
       "        text-align: right;\n",
       "    }\n",
       "</style>\n",
       "<table border=\"1\" class=\"dataframe\">\n",
       "  <thead>\n",
       "    <tr style=\"text-align: right;\">\n",
       "      <th></th>\n",
       "      <th>band_gap</th>\n",
       "      <th>composition</th>\n",
       "      <th>density</th>\n",
       "      <th>e_above_hull</th>\n",
       "      <th>efermi</th>\n",
       "      <th>elements</th>\n",
       "      <th>final_energy_per_atom</th>\n",
       "      <th>formation_energy_per_atom</th>\n",
       "      <th>pretty_formula</th>\n",
       "      <th>structure</th>\n",
       "      <th>volume</th>\n",
       "    </tr>\n",
       "  </thead>\n",
       "  <tbody>\n",
       "    <tr>\n",
       "      <th>mp-20866</th>\n",
       "      <td>0.0000</td>\n",
       "      <td>{'Ge': 4.0, 'Rh': 4.0}</td>\n",
       "      <td>9.755533</td>\n",
       "      <td>0.042011</td>\n",
       "      <td>6.337905</td>\n",
       "      <td>[Ge, Rh]</td>\n",
       "      <td>-6.496779</td>\n",
       "      <td>-0.518768</td>\n",
       "      <td>GeRh</td>\n",
       "      <td>[[0.80283734 1.66009566 3.26577034] Ge, [1.660...</td>\n",
       "      <td>119.521980</td>\n",
       "    </tr>\n",
       "    <tr>\n",
       "      <th>mp-30759</th>\n",
       "      <td>0.0000</td>\n",
       "      <td>{'Li': 1.0, 'Mg': 2.0, 'Tl': 1.0}</td>\n",
       "      <td>5.022909</td>\n",
       "      <td>0.079248</td>\n",
       "      <td>4.280492</td>\n",
       "      <td>[Li, Mg, Tl]</td>\n",
       "      <td>-1.919116</td>\n",
       "      <td>-0.053024</td>\n",
       "      <td>LiMg2Tl</td>\n",
       "      <td>[[3.502481 3.502481 3.502481] Li, [1.7512405 1...</td>\n",
       "      <td>85.932483</td>\n",
       "    </tr>\n",
       "    <tr>\n",
       "      <th>mp-3416</th>\n",
       "      <td>6.7252</td>\n",
       "      <td>{'Na': 6.0, 'Al': 2.0, 'F': 12.0}</td>\n",
       "      <td>2.844097</td>\n",
       "      <td>0.000000</td>\n",
       "      <td>-1.611541</td>\n",
       "      <td>[Na, Al, F]</td>\n",
       "      <td>-5.035871</td>\n",
       "      <td>-3.415316</td>\n",
       "      <td>Na3AlF6</td>\n",
       "      <td>[[3.14484661 5.38110567 2.00280763] Na, [0.304...</td>\n",
       "      <td>245.150323</td>\n",
       "    </tr>\n",
       "    <tr>\n",
       "      <th>mp-505412</th>\n",
       "      <td>2.0103</td>\n",
       "      <td>{'K': 8.0, 'In': 8.0, 'S': 16.0}</td>\n",
       "      <td>3.080923</td>\n",
       "      <td>0.000000</td>\n",
       "      <td>1.459451</td>\n",
       "      <td>[In, K, S]</td>\n",
       "      <td>-3.972722</td>\n",
       "      <td>-1.270707</td>\n",
       "      <td>KInS2</td>\n",
       "      <td>[[-3.49606564  7.70034675 13.24465715] K, [-3....</td>\n",
       "      <td>940.171139</td>\n",
       "    </tr>\n",
       "    <tr>\n",
       "      <th>mp-684652</th>\n",
       "      <td>6.8050</td>\n",
       "      <td>{'Be': 3.0, 'F': 6.0}</td>\n",
       "      <td>1.246979</td>\n",
       "      <td>0.222983</td>\n",
       "      <td>-5.836445</td>\n",
       "      <td>[Be, F]</td>\n",
       "      <td>-5.542443</td>\n",
       "      <td>-3.348938</td>\n",
       "      <td>BeF2</td>\n",
       "      <td>[[0.86831036 6.79832225 6.01464299] Be, [0.238...</td>\n",
       "      <td>187.798570</td>\n",
       "    </tr>\n",
       "  </tbody>\n",
       "</table>\n",
       "</div>"
      ],
      "text/plain": [
       "           band_gap                        composition   density  \\\n",
       "mp-20866     0.0000             {'Ge': 4.0, 'Rh': 4.0}  9.755533   \n",
       "mp-30759     0.0000  {'Li': 1.0, 'Mg': 2.0, 'Tl': 1.0}  5.022909   \n",
       "mp-3416      6.7252  {'Na': 6.0, 'Al': 2.0, 'F': 12.0}  2.844097   \n",
       "mp-505412    2.0103   {'K': 8.0, 'In': 8.0, 'S': 16.0}  3.080923   \n",
       "mp-684652    6.8050              {'Be': 3.0, 'F': 6.0}  1.246979   \n",
       "\n",
       "           e_above_hull    efermi      elements  final_energy_per_atom  \\\n",
       "mp-20866       0.042011  6.337905      [Ge, Rh]              -6.496779   \n",
       "mp-30759       0.079248  4.280492  [Li, Mg, Tl]              -1.919116   \n",
       "mp-3416        0.000000 -1.611541   [Na, Al, F]              -5.035871   \n",
       "mp-505412      0.000000  1.459451    [In, K, S]              -3.972722   \n",
       "mp-684652      0.222983 -5.836445       [Be, F]              -5.542443   \n",
       "\n",
       "           formation_energy_per_atom pretty_formula  \\\n",
       "mp-20866                   -0.518768           GeRh   \n",
       "mp-30759                   -0.053024        LiMg2Tl   \n",
       "mp-3416                    -3.415316        Na3AlF6   \n",
       "mp-505412                  -1.270707          KInS2   \n",
       "mp-684652                  -3.348938           BeF2   \n",
       "\n",
       "                                                   structure      volume  \n",
       "mp-20866   [[0.80283734 1.66009566 3.26577034] Ge, [1.660...  119.521980  \n",
       "mp-30759   [[3.502481 3.502481 3.502481] Li, [1.7512405 1...   85.932483  \n",
       "mp-3416    [[3.14484661 5.38110567 2.00280763] Na, [0.304...  245.150323  \n",
       "mp-505412  [[-3.49606564  7.70034675 13.24465715] K, [-3....  940.171139  \n",
       "mp-684652  [[0.86831036 6.79832225 6.01464299] Be, [0.238...  187.798570  "
      ]
     },
     "execution_count": 4,
     "metadata": {},
     "output_type": "execute_result"
    }
   ],
   "source": [
    "# read ids\n",
    "mp_ids = [s.decode('utf-8') for s in np.loadtxt('data/mp_ids.txt', 'S20')]\n",
    "\n",
    "# fetch data as pandas.DataFrame\n",
    "df = data_fetcher(api_key, mp_ids)\n",
    "df.head(5)"
   ]
  },
  {
   "cell_type": "markdown",
   "metadata": {},
   "source": [
    "#### サンプルデータを保存\n",
    "\n",
    "サンプルデータは`pandas.DataFrame`にして，`data/mp_samples.pd.xz`で保存します，"
   ]
  },
  {
   "cell_type": "code",
   "execution_count": 5,
   "metadata": {},
   "outputs": [],
   "source": [
    "df.to_pickle('data/mp_samples.pd.xz')"
   ]
  }
 ],
 "metadata": {
  "interpreter": {
   "hash": "93169193031bed5a34de5405a805c1cdfe217db623a6098111020ecff952ad9d"
  },
  "kernelspec": {
   "display_name": "Python 3.8.13 ('xepy38')",
   "language": "python",
   "name": "python3"
  },
  "language_info": {
   "codemirror_mode": {
    "name": "ipython",
    "version": 3
   },
   "file_extension": ".py",
   "mimetype": "text/x-python",
   "name": "python",
   "nbconvert_exporter": "python",
   "pygments_lexer": "ipython3",
   "version": "3.8.13"
  },
  "orig_nbformat": 4
 },
 "nbformat": 4,
 "nbformat_minor": 2
}

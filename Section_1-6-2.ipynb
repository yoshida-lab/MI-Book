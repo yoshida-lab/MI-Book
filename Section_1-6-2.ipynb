{
 "cells": [
  {
   "cell_type": "markdown",
   "metadata": {},
   "source": [
    "### 演習20）サンプルコードを実行し，エピガロカテキン（Epigallocatechingallate）に変異・挿入・欠失・伸長の操作を施し，生成される化学構造を可視化せよ．"
   ]
  },
  {
   "cell_type": "code",
   "execution_count": null,
   "metadata": {},
   "outputs": [],
   "source": []
  },
  {
   "cell_type": "markdown",
   "metadata": {},
   "source": [
    "### 演習21）サンプルコードを実行し，フラグメントの確率的な組み換えを行い，所望のHOMO（highest occupied molecular orbital），LUMO（lowest unoccupied molecular orbital）を有する分子（有機薄膜太陽電池のドナー分子）を生成せよ．計算のフローについては，Algorithm3を参照せよ．"
   ]
  },
  {
   "cell_type": "code",
   "execution_count": null,
   "metadata": {},
   "outputs": [],
   "source": []
  }
 ],
 "metadata": {
  "kernelspec": {
   "display_name": "MB16_xepy37_v06_test_env",
   "language": "python",
   "name": "mb16_xepy37_v06_test_env"
  },
  "language_info": {
   "codemirror_mode": {
    "name": "ipython",
    "version": 3
   },
   "file_extension": ".py",
   "mimetype": "text/x-python",
   "name": "python",
   "nbconvert_exporter": "python",
   "pygments_lexer": "ipython3",
   "version": "3.7.9"
  }
 },
 "nbformat": 4,
 "nbformat_minor": 4
}

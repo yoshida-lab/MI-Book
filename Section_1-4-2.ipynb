{
 "cells": [
  {
   "cell_type": "markdown",
   "metadata": {},
   "source": [
    "### 演習14）以下の説明やサンプルコードを参考にして，Materials Projectに収録されているデータを用いて，化学組成や結晶構造から形成エネルギー，バンドギャップ，密度の予測モデルを構築せよ．"
   ]
  },
  {
   "cell_type": "code",
   "execution_count": null,
   "metadata": {},
   "outputs": [],
   "source": []
  }
 ],
 "metadata": {
  "kernelspec": {
   "display_name": "MB16_xepy37_v06_test_env",
   "language": "python",
   "name": "mb16_xepy37_v06_test_env"
  },
  "language_info": {
   "codemirror_mode": {
    "name": "ipython",
    "version": 3
   },
   "file_extension": ".py",
   "mimetype": "text/x-python",
   "name": "python",
   "nbconvert_exporter": "python",
   "pygments_lexer": "ipython3",
   "version": "3.7.9"
  }
 },
 "nbformat": 4,
 "nbformat_minor": 4
}
